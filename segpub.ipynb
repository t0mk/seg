{
 "cells": [
  {
   "cell_type": "markdown",
   "metadata": {},
   "source": [
    "## Introduction\n",
    "\n",
    "There was a [GPS trajectory averaging challenge from the UEF Machine Learning group](http://cs.uef.fi/sipu/segments/). It seemed like a manageable and interesting little project, so I looked at it.\n",
    "\n",
    "They supplied normalized trajectory training data in coordintates. The coordinates of the trajectories were 2D points with both x and y range from 0 to 1.\n",
    "\n",
    "There are 100 sample groups and each group contains 3+ trajectories consisting of 2+ points. I am guessing the trajectories were actually measured GPS coords from user devices. The real trajectory or path from Openstreetmaps is also given.\n",
    "\n",
    "## Input data\n",
    "\n",
    "This is an example of a sample group with 12 trajectories. Green are the measured trajectories and black is the truth from OpenStreetMap."
   ]
  },
  {
   "cell_type": "code",
   "execution_count": 78,
   "metadata": {},
   "outputs": [
    {
     "name": "stdout",
     "output_type": "stream",
     "text": [
      "1. segment:\n",
      " x: [0.   0.44 0.55]\n",
      " y: [0.46 0.35 0.2 ]\n",
      "2. segment:\n",
      " x: [0.18 0.29 0.38 0.46 0.53 0.62 0.72]\n",
      " y: [0.32 0.28 0.24 0.2  0.16 0.14 0.09]\n",
      "3. segment:\n",
      " x: [0.23 0.33 0.39 0.52]\n",
      " y: [0.43 0.27 0.2  0.06]\n",
      "4. segment:\n",
      " x: [0.77 0.62 0.49 0.35 0.2 ]\n",
      " y: [0.25 0.3  0.36 0.43 0.49]\n",
      "5. segment:\n",
      " x: [0.77 0.59 0.43 0.28]\n",
      " y: [0.43 0.46 0.51 0.58]\n",
      "6. segment:\n",
      " x: [0.81 0.68 0.55 0.42 0.33]\n",
      " y: [0.28 0.36 0.42 0.49 0.59]\n",
      "7. segment:\n",
      " x: [0.21 0.33 0.45 0.57 0.69 0.81]\n",
      " y: [0.41 0.36 0.31 0.27 0.26 0.28]\n",
      "8. segment:\n",
      " x: [1.   0.91 0.81 0.69 0.55 0.42 0.29]\n",
      " y: [0.68 0.75 0.81 0.85 0.87 0.9  0.92]\n",
      "9. segment:\n",
      " x: [0.84 0.72 0.59 0.45 0.23]\n",
      " y: [0.32 0.36 0.4  0.45 0.57]\n",
      "10. segment:\n",
      " x: [0.17 0.27 0.39 0.5  0.58 0.62]\n",
      " y: [0.57 0.58 0.52 0.47 0.37 0.25]\n",
      "11. segment:\n",
      " x: [0.09 0.18 0.25 0.32 0.4  0.5  0.6 ]\n",
      " y: [0.28 0.24 0.2  0.16 0.11 0.06 0.  ]\n",
      "12. segment:\n",
      " x: [0.7  0.59 0.47 0.35 0.23]\n",
      " y: [0.24 0.31 0.35 0.41 0.46]\n"
     ]
    },
    {
     "data": {
      "image/png": "[encoded data removed]",
      "text/plain": [
       "<Figure size 360x360 with 1 Axes>"
      ]
     },
     "metadata": {},
     "output_type": "display_data"
    }
   ],
   "source": [
    "import numpy as np\n",
    "np.set_printoptions(precision=2)\n",
    "np.set_printoptions(suppress=True)\n",
    "for n, xy in enumerate(ts[0]):\n",
    "    print(\"%d. segment:\" % (n+1))\n",
    "    print(\" x:\", xy[0])\n",
    "    print(\" y:\", xy[1])\n",
    "showPlain(0)"
   ]
  },
  {
   "cell_type": "markdown",
   "metadata": {},
   "source": [
    "## Implementation\n",
    "\n",
    "I wrote it in Python 3. The only dependency is numpy.\n",
    "\n",
    "My first idea was just to fit all the points by least squares and get intercept and slope of regression line. That had several problems:\n",
    "* the trajectories might be vertical, causing the slope reach infinity. This could be fixed with converting it to angle with arctan.\n",
    "* sometimes the trajectories and the true path curve - linear regression will not capture the curvature\n",
    "* slope and intercept don't capture length, obviously an important factor of a geographical trajectory\n",
    "\n",
    "I had to think harder to properly average arbitrary line segments. I came up with following. This is done for each sample group:\n",
    "* Align the lines, so that they have the same direction (more on alignment below).\n",
    "* Drop outliers (more on outlier detection below)\n",
    "* Find median of the number of segments in a line a sample group\n",
    "* Define evenly linearly spaced list of \\<median\\> offsets, from 0 to 1. E.g. if the median was 6, the list of 6 offsets would be \n",
    "  \\[0, .2, .4. .6. .8. 1\\]\n",
    "* Find points on every segment in a group, for every offset, and average the points on correspoding offsets.\n",
    "* (2 previous bulletpoints are done in class Traj in my code)\n",
    "* Resulting vector of averages is the segment average.\n",
    "* Simplify the result line, i.e. drop points which don't add to curvature of the line. I use https://en.wikipedia.org/wiki/Ramer–Douglas–Peucker_algorithm for that.\n",
    "\n",
    "I later found out that my averaging is maybe too similar to https://en.wikipedia.org/wiki/Dynamic_time_warping.\n",
    "\n",
    "It's not a perfect solution, there are cases where it will not work well, but to tune further, I would need more training data.\n",
    "\n",
    "Class Traj implements the offset evaluation. "
   ]
  },
  {
   "cell_type": "code",
   "execution_count": null,
   "metadata": {},
   "outputs": [],
   "source": [
    "class Traj:\n",
    "    def __init__(self,xsys):\n",
    "        xs, ys = xsys\n",
    "        self.xs = np.array(xs)\n",
    "        self.ys = np.array(ys)\n",
    "        self.xd = np.diff(xs)\n",
    "        self.yd = np.diff(ys)\n",
    "        self.dists = np.linalg.norm([self.xd, self.yd],axis=0)\n",
    "        self.cuts = np.cumsum(self.dists)\n",
    "        self.d = np.hstack([0,self.cuts])\n",
    "\n",
    "    # getPoints gets coordinates of offsets, e.g. for line [0,0][1,0][1,1] and offsets [.3, .7] would\n",
    "    # return [.6,0][1,.4]. \n",
    "    # Resp. it would return [.6,1],[0,.4] becaseu x and y coords are returned\n",
    "    # separate arrays (to make the numpy operations more effective)\n",
    "    def getPoints(self, offsets):\n",
    "        offdists = offsets * self.cuts[-1]\n",
    "        ix = np.searchsorted(self.cuts, offdists)\n",
    "        offdists -= self.d[ix]\n",
    "        segoffs = offdists/self.dists[ix]\n",
    "        x = self.xs[ix] + self.xd[ix]*segoffs\n",
    "        y = self.ys[ix] + self.yd[ix]*segoffs\n",
    "        return x,y\n"
   ]
  },
  {
   "cell_type": "markdown",
   "metadata": {},
   "source": [
    "## Evaluating - measuring error\n",
    "\n",
    "The training data contain ground truth, so it's good to define a way to measure solution error - some sort of distance between my aproximation and the true route.\n",
    "\n",
    "Even though this task deals with line segments, it's not so straightforward how to measure error. The lines can have different number of segments and they can be oriented wrong. I came up with following:\n",
    "* make sure the 2 lines are oriented the same\n",
    "* to ensure we have same amount of segment, find 10 equally spaced points on the segments. Now we deal with 2 10-segment lines.\n",
    "* find distance between each pair of points and sum it -> that is out error\n",
    "\n",
    "This is not part of the challenge solution, I just used this to evaluate on my own, measurably.\n",
    "\n",
    "In code:"
   ]
  },
  {
   "cell_type": "code",
   "execution_count": null,
   "metadata": {},
   "outputs": [],
   "source": [
    "\n",
    "# error between 2 segments: [x1,y2] and [x2,y2]\n",
    "def disterr(x1,y1, x2, y2):\n",
    "    sd = np.array([x1[0]-x2[0],y1[0]-y2[0]])\n",
    "    ed = np.array([x1[0]-x2[-1],y1[0]-y2[-1]])\n",
    "    # flip the 2nd line, if the lines are oriented differently\n",
    "    if np.linalg.norm(sd) > np.linalg.norm(ed):\n",
    "        x2 = np.flip(x2)\n",
    "        y2 = np.flip(y2)\n",
    "\n",
    "    offs = np.linspace(0,1,10)\n",
    "    # Traj.getPoints() gets points from a line on given offsets\n",
    "    xrs1, yrs1 = Traj((x1,y1)).getPoints(offs)\n",
    "    xrs2, yrs2 = Traj((x2,y2)).getPoints(offs)\n",
    "    return np.sum(np.linalg.norm([xrs1-xrs2, yrs1-yrs2],axis=0))\n"
   ]
  },
  {
   "cell_type": "markdown",
   "metadata": {},
   "source": [
    "## Outlier Detection\n",
    "\n",
    "The goal of outlier detection is to eliminate samples which are not believed to be helpful to proper approximation. If a line segment in a group is totally off, it's probably not going to contribute to a good approximation solution. I tried a couple of measures:\n",
    "\n",
    "* slope and intercept of least-square regression line - This proved not robust enough, there are curved segments in the training.\n",
    "* length of the line\n",
    "* center distance of a line from the center of the average of all the lines\n",
    "* curvature of the line - the extent of how straight or curved it is\n",
    "\n",
    "The idea was to find the most extreme values and throw them away. To define the throwaway threshold, I needed to use some normalized statistic measure. I thought about percentile, but then I learned about z-score. Z-score of a value from a distribution shows how extreme the value is. It's normalized in standard deviation units, so it's possible to use same limits for various measures.\n",
    "\n",
    "I picked only the length and the distance in the end, the other measures didn't contribute much further. I pass the limit z-scores to the averaging method.\n",
    "\n",
    "__EXAMPLE of outlier detect"
   ]
  },
  {
   "cell_type": "markdown",
   "metadata": {},
   "source": [
    "## Alignment of orientation\n",
    "\n",
    "The line segments in a group can have different orientation. This is very hard to understand from simple visualization, but with the offset averaging, it will soon start to show that the direction of the line segments must be aligned to work as expected.\n",
    "\n",
    "I use a simplified 2-cluster K-means (\"2-means\" would probably be the proper term) algorithm, to find 2 clusters of endpoints - the two clusters are then used for orientiation.\n",
    "\n",
    "First I compile list of termination points - 2 for each line in the proper order, so that it's \\[startpoint\\[l\\] for l in lines\\] ++ \\[endpoint\\[l\\] for l in lines\\]. The length of the list is 2\\*len(lines).\n",
    "\n",
    "Then I initialize 2 clusters with startpoint and endpoint of the first line (guaranteeing that the clusters contain different ends of measured trajectory). Then, based on distances to the center of the clusters, I label the (start- and end-) points, and then give it 10 more iterations, recalculating centers of the clusters, and relabeling accordingly.\n",
    "\n",
    "In the end, I flip all the lines which have label \"1\" for startpoint. It's done only for the first half of the label list, because the second half are endpoints."
   ]
  },
  {
   "cell_type": "code",
   "execution_count": null,
   "metadata": {},
   "outputs": [],
   "source": [
    "    def align(self):\n",
    "        cs = np.array([[self.trajs[0].xs[0],self.trajs[0].xs[-1]],\n",
    "                       [self.trajs[0].ys[0],self.trajs[0].ys[-1]]])\n",
    "        xs = np.hstack([t.xs[0] for t in self.trajs] + [t.xs[-1] for t in self.trajs])\n",
    "        ys = np.hstack([t.ys[0] for t in self.trajs] + [t.ys[-1] for t in self.trajs])\n",
    "        clabs = []\n",
    "        oldclabs = []\n",
    "        for j in range(10):\n",
    "            for i in range(len(xs)):\n",
    "                ap = np.array([[xs[i]],[ys[i]]])\n",
    "                dists = np.linalg.norm(ap - cs, axis=0)\n",
    "                clabs.append(np.argmin(dists))\n",
    "            cx = np.array([\n",
    "                np.mean(xs[np.where(np.array(clabs)==0)]),\n",
    "                np.mean(xs[np.where(np.array(clabs)==1)])])\n",
    "            cy = np.array([\n",
    "                np.mean(ys[np.where(np.array(clabs)==0)]),\n",
    "                np.mean(ys[np.where(np.array(clabs)==1)])])\n",
    "            if oldclabs == clabs:\n",
    "                break\n",
    "            oldclabs = clabs\n",
    "            clabs = []\n",
    "        for i,l in enumerate(clabs[:len(clabs)//2]):\n",
    "            if l == 1:\n",
    "                oldT = self.trajs[i]\n",
    "                reversedTraj = (np.flip(oldT.xs), np.flip(oldT.ys))\n",
    "                self.trajs[i] = Traj(reversedTraj)\n",
    "       \n"
   ]
  },
  {
   "cell_type": "code",
   "execution_count": null,
   "metadata": {},
   "outputs": [],
   "source": []
  }
 ],
 "metadata": {
  "kernelspec": {
   "display_name": "Python 3",
   "language": "python",
   "name": "python3"
  },
  "language_info": {
   "codemirror_mode": {
    "name": "ipython",
    "version": 3
   },
   "file_extension": ".py",
   "mimetype": "text/x-python",
   "name": "python",
   "nbconvert_exporter": "python",
   "pygments_lexer": "ipython3",
   "version": "3.6.7"
  }
 },
 "nbformat": 4,
 "nbformat_minor": 2
}
